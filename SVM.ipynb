{
 "cells": [
  {
   "cell_type": "code",
   "execution_count": 5,
   "metadata": {},
   "outputs": [
    {
     "name": "stdout",
     "output_type": "stream",
     "text": [
      "no. of Chris training emails: 7936\n",
      "no. of Sara training emails: 7884\n"
     ]
    }
   ],
   "source": [
    "\"\"\" \n",
    "    This is the code to accompany the Lesson 2 (SVM) mini-project.\n",
    "\n",
    "    Use a SVM to identify emails from the Enron corpus by their authors:    \n",
    "    Sara has label 0\n",
    "    Chris has label 1\n",
    "\"\"\"\n",
    "    \n",
    "import sys\n",
    "from time import time\n",
    "sys.path.append(\"../tools/\")\n",
    "from email_preprocess import preprocess\n",
    "\n",
    "\n",
    "### features_train and features_test are the features for the training\n",
    "### and testing datasets, respectively\n",
    "### labels_train and labels_test are the corresponding item labels\n",
    "features_train, features_test, labels_train, labels_test = preprocess()\n"
   ]
  },
  {
   "cell_type": "code",
   "execution_count": 6,
   "metadata": {
    "collapsed": true
   },
   "outputs": [],
   "source": [
    "#########################################################\n",
    "### your code goes here ###\n",
    "#  SVM code website:  http://scikit-learn.org/stable/modules/svm.html\n",
    "\n",
    "from sklearn.svm import SVC\n",
    "from sklearn.metrics import accuracy_score"
   ]
  },
  {
   "cell_type": "code",
   "execution_count": 8,
   "metadata": {},
   "outputs": [
    {
     "name": "stdout",
     "output_type": "stream",
     "text": [
      "training time: 152.289 s\n",
      "predict time: 16.446 s\n",
      " test accuracy is  0.984072810011\n"
     ]
    }
   ],
   "source": [
    "t0=time()\n",
    "clf=SVC(kernel=\"linear\")\n",
    "clf.fit(features_train,labels_train)\n",
    "\n",
    "print (\"training time:\", round(time()-t0, 3), \"s\")\n",
    "\n",
    "t1=time()\n",
    "pred=clf.predict(features_test)\n",
    "acc=accuracy_score(pred,labels_test)\n",
    "\n",
    "print (\"predict time:\", round(time()-t1, 3), \"s\")\n",
    "print(\" test accuracy is \", acc)\n",
    "#########################################################"
   ]
  },
  {
   "cell_type": "code",
   "execution_count": 15,
   "metadata": {},
   "outputs": [
    {
     "name": "stdout",
     "output_type": "stream",
     "text": [
      "training time: 0.099 s\n",
      "predict time: 0.925 s\n",
      " test accuracy is  0.884527872582\n"
     ]
    }
   ],
   "source": [
    "# One way to speed up an algorithm is to train it on a smaller training dataset: using 1% of the training dataset\n",
    "# speed and accuracy trade off\n",
    "\n",
    "features_train_1 = features_train[:round(len(features_train)/100)] \n",
    "labels_train_1 = labels_train[:round(len(labels_train)/100)] \n",
    "\n",
    "t0=time()\n",
    "clf=SVC(kernel=\"linear\")\n",
    "clf.fit(features_train_1,labels_train_1)\n",
    "\n",
    "print (\"training time:\", round(time()-t0, 3), \"s\")\n",
    "\n",
    "t1=time()\n",
    "pred=clf.predict(features_test)\n",
    "acc=accuracy_score(pred,labels_test)\n",
    "\n",
    "print (\"predict time:\", round(time()-t1, 3), \"s\")\n",
    "print(\" test accuracy is \", acc)"
   ]
  },
  {
   "cell_type": "code",
   "execution_count": 16,
   "metadata": {},
   "outputs": [
    {
     "name": "stdout",
     "output_type": "stream",
     "text": [
      "training time: 0.102 s\n",
      "predict time: 1.035 s\n",
      " test accuracy is  0.616040955631\n"
     ]
    }
   ],
   "source": [
    "# still kepp 1% of the traing sample\n",
    "# kernel=rbf\n",
    "\n",
    "features_train_1 = features_train[:round(len(features_train)/100)] \n",
    "labels_train_1 = labels_train[:round(len(labels_train)/100)] \n",
    "\n",
    "t0=time()\n",
    "clf=SVC(kernel=\"rbf\")\n",
    "clf.fit(features_train_1,labels_train_1)\n",
    "\n",
    "print (\"training time:\", round(time()-t0, 3), \"s\")\n",
    "\n",
    "t1=time()\n",
    "pred=clf.predict(features_test)\n",
    "acc=accuracy_score(pred,labels_test)\n",
    "\n",
    "print (\"predict time:\", round(time()-t1, 3), \"s\")\n",
    "print(\" test accuracy is \", acc)"
   ]
  },
  {
   "cell_type": "code",
   "execution_count": 25,
   "metadata": {},
   "outputs": [
    {
     "name": "stdout",
     "output_type": "stream",
     "text": [
      "training time: 0.101 s\n",
      "predict time: 0.806 s\n",
      " test accuracy is  0.892491467577\n"
     ]
    }
   ],
   "source": [
    "# try adding parameter C for rbf kernel\n",
    "\n",
    "features_train_1 = features_train[:round(len(features_train)/100)] \n",
    "labels_train_1 = labels_train[:round(len(labels_train)/100)] \n",
    "\n",
    "t0=time()\n",
    "clf=SVC(kernel=\"rbf\",C=10000)\n",
    "clf.fit(features_train_1,labels_train_1)\n",
    "\n",
    "print (\"training time:\", round(time()-t0, 3), \"s\")\n",
    "\n",
    "t1=time()\n",
    "pred=clf.predict(features_test)\n",
    "acc=accuracy_score(pred,labels_test)\n",
    "\n",
    "print (\"predict time:\", round(time()-t1, 3), \"s\")\n",
    "print(\" test accuracy is \", acc)\n",
    "\n",
    "# C=10000  accuracy=0.892\n",
    "# C=1000   accuracy=0.821\n",
    "# C=100    accuracy=0.616\n",
    "# C=10     accuracy=0.616\n",
    "\n",
    "# So, we get the optimal C=10000 and go back to use the full dataset"
   ]
  },
  {
   "cell_type": "code",
   "execution_count": 26,
   "metadata": {},
   "outputs": [
    {
     "name": "stdout",
     "output_type": "stream",
     "text": [
      "training time: 99.624 s\n",
      "predict time: 10.071 s\n",
      " test accuracy is  0.990898748578\n"
     ]
    }
   ],
   "source": [
    "# using optimaized C=10000 for full dataset\n",
    "t0=time()\n",
    "clf=SVC(kernel=\"rbf\",C=10000)\n",
    "clf.fit(features_train,labels_train)\n",
    "\n",
    "print (\"training time:\", round(time()-t0, 3), \"s\")\n",
    "\n",
    "t1=time()\n",
    "pred=clf.predict(features_test)\n",
    "acc=accuracy_score(pred,labels_test)\n",
    "\n",
    "print (\"predict time:\", round(time()-t1, 3), \"s\")\n",
    "print(\" test accuracy is \", acc)\n"
   ]
  },
  {
   "cell_type": "code",
   "execution_count": 30,
   "metadata": {},
   "outputs": [
    {
     "name": "stdout",
     "output_type": "stream",
     "text": [
      "1 0 1\n",
      "877\n"
     ]
    }
   ],
   "source": [
    "print(pred[10],pred[26],pred[50])\n",
    "print(sum(pred))  # label=1 means predicted to be Chris"
   ]
  }
 ],
 "metadata": {
  "kernelspec": {
   "display_name": "Python 3",
   "language": "python",
   "name": "python3"
  },
  "language_info": {
   "codemirror_mode": {
    "name": "ipython",
    "version": 3
   },
   "file_extension": ".py",
   "mimetype": "text/x-python",
   "name": "python",
   "nbconvert_exporter": "python",
   "pygments_lexer": "ipython3",
   "version": "3.6.1"
  }
 },
 "nbformat": 4,
 "nbformat_minor": 2
}
